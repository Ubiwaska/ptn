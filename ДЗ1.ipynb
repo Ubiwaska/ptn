{
  "cells": [
    {
      "attachments": {},
      "cell_type": "markdown",
      "id": "629fa9bf-0efa-466d-98c3-962278a76bfb",
      "metadata": {
        "id": "629fa9bf-0efa-466d-98c3-962278a76bfb"
      },
      "source": [
        "<h2>Задача 1<h2>\n",
        "<div class =\"alert alert-block alert-success\">\n",
        "<b><i> На складе лежат разные фрукты в разном количестве. Нужно написать функцию, которая на вход принимает любое количество названий фруктов и их количество, а возвращает общее количество фруктов на складе.<i/></b>\n",
        "    </div>"
      ]
    },
    {
      "cell_type": "code",
      "execution_count": 1,
      "id": "63ffba70-5008-4de9-ab1a-8944134b9709",
      "metadata": {
        "id": "63ffba70-5008-4de9-ab1a-8944134b9709",
        "trusted": true
      },
      "outputs": [],
      "source": [
        "def sum_fruits(**kwards):\n",
        "    total = 0\n",
        "    for amount in kwards.values():\n",
        "        total += amount\n",
        "    return total"
      ]
    },
    {
      "cell_type": "markdown",
      "id": "64434dd2-d914-4d9f-9d03-731d75a1a321",
      "metadata": {
        "id": "64434dd2-d914-4d9f-9d03-731d75a1a321"
      },
      "source": [
        "\n",
        "    Всего фруктов:\n",
        "    -яблоки = 100;\n",
        "    -груши = 50;\n",
        "    -персики = 70.\n",
        "    "
      ]
    },
    {
      "cell_type": "code",
      "execution_count": 3,
      "id": "c9e96c12-6e59-4c4a-b22b-90f0eb389aec",
      "metadata": {
        "id": "c9e96c12-6e59-4c4a-b22b-90f0eb389aec",
        "outputId": "7fce19d4-a942-4e1c-b393-50baa3a988a8",
        "trusted": true
      },
      "outputs": [
        {
          "data": {
            "text/plain": [
              "220"
            ]
          },
          "execution_count": 3,
          "metadata": {},
          "output_type": "execute_result"
        }
      ],
      "source": [
        "sum_fruits(яблоки=100, груши=50, персики=70)"
      ]
    },
    {
      "cell_type": "markdown",
      "id": "d0c94c1e-e1b8-4b4a-9c76-f8b94e154943",
      "metadata": {
        "id": "d0c94c1e-e1b8-4b4a-9c76-f8b94e154943"
      },
      "source": [
        "<h2>Задача 2<h2>\n",
        "\n",
        "<div class =\"alert alert-block alert-success\">\n",
        "<b><i>Дан список с затратами на рекламу. Но в данных есть ошибки, некоторые затраты имеют отрицательную величину. Удалите такие значения из списка и посчитайте суммарные затраты.\n",
        "<br>Используйте list comprehensions<i/></b>\n",
        "    </div>"
      ]
    },
    {
      "cell_type": "code",
      "execution_count": 8,
      "id": "13347a20-5f60-45cc-a4db-90a31b3f8de5",
      "metadata": {
        "id": "13347a20-5f60-45cc-a4db-90a31b3f8de5",
        "outputId": "a85de477-4184-41bf-854a-ff171abd68ab",
        "trusted": true
      },
      "outputs": [
        {
          "data": {
            "text/plain": [
              "1425"
            ]
          },
          "execution_count": 8,
          "metadata": {},
          "output_type": "execute_result"
        }
      ],
      "source": [
        "Advertising_spending = [100, 125, -90, 345, 655, -1, 0, 200]\n",
        "\n",
        "sum([i for i in Advertising_spending if i > 0])"
      ]
    },
    {
      "cell_type": "markdown",
      "id": "8065fa67-9ec7-4151-9d5f-08cd46636906",
      "metadata": {
        "id": "8065fa67-9ec7-4151-9d5f-08cd46636906"
      },
      "source": [
        "<h2>Задача 3<h2>\n",
        "<h3>Часть 1<h3>\n",
        "\n",
        "<div class =\"alert alert-block alert-success\">\n",
        "<b><i>Найдите, какая выручка у компании в ноябре.<br>Используйте list comprehensions.<i/></b>\n",
        "    </div>"
      ]
    },
    {
      "cell_type": "code",
      "execution_count": 23,
      "id": "12aacf48-c507-4d96-b407-6fcdcbbe1e6a",
      "metadata": {
        "id": "12aacf48-c507-4d96-b407-6fcdcbbe1e6a",
        "outputId": "8d2b4e4f-e811-4369-a51e-f891e0f5d455",
        "trusted": true
      },
      "outputs": [
        {
          "name": "stdout",
          "output_type": "stream",
          "text": [
            "Затраты в ноябре: 25098\n"
          ]
        }
      ],
      "source": [
        "Date=['2021-09-14', '2021-12-15', '2021-09-08', '2021-12-05', '2021-10-09', '2021-09-30', '2021-12-22', '2021-11-29', '2021-12-24', '2021-11-26', '2021-10-27', '2021-12-18', '2021-11-09', '2021-11-23', '2021-09-27', '2021-10-02', '2021-12-27', '2021-09-20', '2021-12-13', '2021-11-01', '2021-11-09', '2021-12-06', '2021-12-08', '2021-10-09', '2021-10-31', '2021-09-30', '2021-11-09', '2021-12-13', '2021-10-26', '2021-12-09']\n",
        "Amounts= [1270, 8413, 9028, 3703, 5739, 4095, 295, 4944, 5723, 3701, 4471, 651, 7037, 4274, 6275, 4988, 6930, 2971, 6592, 2004, 2822, 519, 3406, 2732, 5015, 2008, 316, 6333, 5700, 2887]\n",
        "\n",
        "\n",
        "print(f'Затраты в ноябре: {sum([Amounts[i] for i in range(len(Dates)) if int(Dates[i].split(\"-\")[1])==11])}')"
      ]
    },
    {
      "attachments": {},
      "cell_type": "markdown",
      "id": "f82043d1-986a-432c-89ed-809ff23fba61",
      "metadata": {
        "id": "f82043d1-986a-432c-89ed-809ff23fba61"
      },
      "source": [
        "<h2>Задача 3<h2>\n",
        "<h3>Часть 2<h3>\n",
        "\n",
        "<div class =\"alert alert-block alert-success\">\n",
        "<b><i>Найдите выручку компании в зависимости от месяца.\n",
        "<br>Для этого напишите функцию, которая на вход принимает список с датами и список с выручкой, а на выходе словарь, где ключи - это месяцы, а значения - это выручка.\n",
        "<br>Используйте аннотирование типов.<i/></b>\n",
        "    </div>"
      ]
    },
    {
      "cell_type": "code",
      "execution_count": 31,
      "id": "04e399a3-dede-4bd0-8622-2a7df5797e40",
      "metadata": {
        "id": "04e399a3-dede-4bd0-8622-2a7df5797e40",
        "outputId": "c89062f1-8ca2-4eb1-9ea4-93bcf1c87f10",
        "trusted": true
      },
      "outputs": [
        {
          "data": {
            "text/plain": [
              "{'09': 25647, '12': 45452, '10': 28645, '11': 25098}"
            ]
          },
          "execution_count": 31,
          "metadata": {},
          "output_type": "execute_result"
        }
      ],
      "source": [
        "def revenue_month(Date: list, Amounts: list):\n",
        "    revenue = {} \n",
        "    for Date, Amounts in zip(Date, Amounts): \n",
        "        month = Date.split('-')[1]\n",
        "        revenue[month] = revenue.get(month, 0) + Amounts \n",
        "    return revenue\n",
        "revenue_month(Date, Amounts)"
      ]
    }
  ],
  "metadata": {
    "colab": {
      "provenance": []
    },
    "kernelspec": {
      "display_name": "Python 3",
      "language": "python",
      "name": "python3"
    },
    "language_info": {
      "codemirror_mode": {
        "name": "ipython",
        "version": 3
      },
      "file_extension": ".py",
      "mimetype": "text/x-python",
      "name": "python",
      "nbconvert_exporter": "python",
      "pygments_lexer": "ipython3",
      "version": "3.11.1"
    },
    "vscode": {
      "interpreter": {
        "hash": "aee8b7b246df8f9039afb4144a1f6fd8d2ca17a180786b69acc140d282b71a49"
      }
    }
  },
  "nbformat": 4,
  "nbformat_minor": 5
}
